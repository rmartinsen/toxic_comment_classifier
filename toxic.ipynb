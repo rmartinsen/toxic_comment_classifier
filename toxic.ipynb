{
 "cells": [
  {
   "cell_type": "code",
   "execution_count": 1,
   "metadata": {
    "collapsed": true
   },
   "outputs": [],
   "source": [
    "%matplotlib inline"
   ]
  },
  {
   "cell_type": "code",
   "execution_count": 39,
   "metadata": {},
   "outputs": [],
   "source": [
    "import csv\n",
    "\n",
    "import numpy as np\n",
    "import pandas as pd\n",
    "import matplotlib.pyplot as plt\n",
    "\n",
    "from keras.models import Sequential\n",
    "from keras.layers import BatchNormalization, Conv1D, Dense, Dropout, Embedding, Flatten, GlobalMaxPool1D\n",
    "from keras.preprocessing.text import Tokenizer\n",
    "from keras.preprocessing.sequence import pad_sequences \n",
    "\n",
    "from sklearn.model_selection import train_test_split"
   ]
  },
  {
   "cell_type": "code",
   "execution_count": 3,
   "metadata": {
    "collapsed": true
   },
   "outputs": [],
   "source": [
    "VOCAB_SIZE = 50000\n",
    "MAX_TEXT_LEN = 75\n",
    "EMBEDDING_DIM = 300"
   ]
  },
  {
   "cell_type": "code",
   "execution_count": 4,
   "metadata": {
    "collapsed": true
   },
   "outputs": [],
   "source": [
    "train_df = pd.read_csv(\"train.csv\")"
   ]
  },
  {
   "cell_type": "code",
   "execution_count": 5,
   "metadata": {},
   "outputs": [
    {
     "data": {
      "text/plain": [
       "95851"
      ]
     },
     "execution_count": 5,
     "metadata": {},
     "output_type": "execute_result"
    }
   ],
   "source": [
    "len(train_df)"
   ]
  },
  {
   "cell_type": "code",
   "execution_count": 6,
   "metadata": {
    "collapsed": true
   },
   "outputs": [],
   "source": [
    "tokenizer = Tokenizer(num_words=VOCAB_SIZE)"
   ]
  },
  {
   "cell_type": "code",
   "execution_count": 7,
   "metadata": {
    "collapsed": true
   },
   "outputs": [],
   "source": [
    "train = train_df[:10000]"
   ]
  },
  {
   "cell_type": "code",
   "execution_count": 47,
   "metadata": {},
   "outputs": [],
   "source": [
    "tokenizer.fit_on_texts(list(train_df[\"comment_text\"]))\n",
    "\n",
    "word_2_index = tokenizer.word_index\n",
    "index_2_word = {ix: word for word, ix in word_2_index.items()}"
   ]
  },
  {
   "cell_type": "code",
   "execution_count": 48,
   "metadata": {},
   "outputs": [],
   "source": [
    "tokens = tokenizer.texts_to_sequences(train_df[\"comment_text\"])"
   ]
  },
  {
   "cell_type": "markdown",
   "metadata": {},
   "source": [
    "Load fast text weights from downloaded file"
   ]
  },
  {
   "cell_type": "code",
   "execution_count": 49,
   "metadata": {
    "collapsed": true
   },
   "outputs": [],
   "source": [
    "fasttext_weights = pd.read_csv(\"fasttext/fasttext.vec\", sep=\" \", skiprows=1,\n",
    "                               quoting=csv.QUOTE_NONE, header=None, index_col=0\n",
    "                               )"
   ]
  },
  {
   "cell_type": "code",
   "execution_count": 51,
   "metadata": {},
   "outputs": [],
   "source": [
    "# Reading CSV puts an empty column at the end. Drop that column.\n",
    "fasttext_weights.drop(labels=len(fasttext_weights.columns), axis=1, inplace=True)"
   ]
  },
  {
   "cell_type": "code",
   "execution_count": 52,
   "metadata": {},
   "outputs": [],
   "source": [
    "embedding_weights = np.zeros((len(index_2_word) + 1, EMBEDDING_DIM))\n",
    "\n",
    "for word, index in word_2_index.items():\n",
    "    if word in fasttext_weights.index:\n",
    "        embedding_weights[index] = fasttext_weights.loc[word]\n"
   ]
  },
  {
   "cell_type": "code",
   "execution_count": 53,
   "metadata": {
    "collapsed": true
   },
   "outputs": [],
   "source": [
    "X = pad_sequences(tokens, 75)"
   ]
  },
  {
   "cell_type": "code",
   "execution_count": 54,
   "metadata": {
    "collapsed": true
   },
   "outputs": [],
   "source": [
    "y = [[train_df.iloc[row][\"toxic\"], train_df.iloc[row][\"severe_toxic\"],\n",
    "                     train_df.iloc[row][\"obscene\"], train_df.iloc[row][\"threat\"], \n",
    "                     train_df.iloc[row][\"insult\"], train_df.iloc[row][\"identity_hate\"]\n",
    "                     ]for row in range(len(train_df))]"
   ]
  },
  {
   "cell_type": "code",
   "execution_count": 55,
   "metadata": {
    "collapsed": true
   },
   "outputs": [],
   "source": [
    "X_train, X_test, y_train, y_test = train_test_split(X, y, test_size=.15)"
   ]
  },
  {
   "cell_type": "code",
   "execution_count": 56,
   "metadata": {},
   "outputs": [],
   "source": [
    "model = Sequential()\n",
    "\n",
    "embedding = Embedding(len(word_2_index) + 1, 300, input_length=75, trainable=False)\n",
    "\n",
    "model.add(embedding)\n",
    "model.add(Conv1D(32, 5))\n",
    "model.add(GlobalMaxPool1D())\n",
    "model.add(Dropout(.3))\n",
    "model.add(Dense(512, input_shape=(10,)))\n",
    "model.add(BatchNormalization())\n",
    "model.add(Dropout(.3))\n",
    "model.add(Dense(1024, input_shape=(10,)))\n",
    "model.add(BatchNormalization())\n",
    "model.add(Dense(6, activation=\"sigmoid\"))"
   ]
  },
  {
   "cell_type": "code",
   "execution_count": 57,
   "metadata": {},
   "outputs": [
    {
     "name": "stdout",
     "output_type": "stream",
     "text": [
      "_________________________________________________________________\n",
      "Layer (type)                 Output Shape              Param #   \n",
      "=================================================================\n",
      "embedding_8 (Embedding)      (None, 75, 300)           45956700  \n",
      "_________________________________________________________________\n",
      "conv1d_8 (Conv1D)            (None, 71, 32)            48032     \n",
      "_________________________________________________________________\n",
      "global_max_pooling1d_4 (Glob (None, 32)                0         \n",
      "_________________________________________________________________\n",
      "dropout_6 (Dropout)          (None, 32)                0         \n",
      "_________________________________________________________________\n",
      "dense_13 (Dense)             (None, 512)               16896     \n",
      "_________________________________________________________________\n",
      "batch_normalization_5 (Batch (None, 512)               2048      \n",
      "_________________________________________________________________\n",
      "dropout_7 (Dropout)          (None, 512)               0         \n",
      "_________________________________________________________________\n",
      "dense_14 (Dense)             (None, 1024)              525312    \n",
      "_________________________________________________________________\n",
      "batch_normalization_6 (Batch (None, 1024)              4096      \n",
      "_________________________________________________________________\n",
      "dense_15 (Dense)             (None, 6)                 6150      \n",
      "=================================================================\n",
      "Total params: 46,559,234\n",
      "Trainable params: 599,462\n",
      "Non-trainable params: 45,959,772\n",
      "_________________________________________________________________\n"
     ]
    }
   ],
   "source": [
    "model.summary()"
   ]
  },
  {
   "cell_type": "code",
   "execution_count": 58,
   "metadata": {
    "collapsed": true
   },
   "outputs": [],
   "source": [
    "model.compile(optimizer=\"adam\", loss=\"binary_crossentropy\", metrics=[\"accuracy\"])"
   ]
  },
  {
   "cell_type": "code",
   "execution_count": 59,
   "metadata": {},
   "outputs": [
    {
     "name": "stdout",
     "output_type": "stream",
     "text": [
      "Train on 81473 samples, validate on 14378 samples\n",
      "Epoch 1/10\n",
      "81473/81473 [==============================] - 123s 2ms/step - loss: 0.1161 - acc: 0.9639 - val_loss: 0.0775 - val_acc: 0.9764\n",
      "Epoch 2/10\n",
      "81473/81473 [==============================] - 122s 1ms/step - loss: 0.0832 - acc: 0.9747 - val_loss: 0.0753 - val_acc: 0.9767\n",
      "Epoch 3/10\n",
      "81473/81473 [==============================] - 122s 1ms/step - loss: 0.0784 - acc: 0.9758 - val_loss: 0.0723 - val_acc: 0.9771\n",
      "Epoch 4/10\n",
      "81473/81473 [==============================] - 122s 1ms/step - loss: 0.0731 - acc: 0.9766 - val_loss: 0.0697 - val_acc: 0.9778\n",
      "Epoch 5/10\n",
      "81473/81473 [==============================] - 122s 1ms/step - loss: 0.0689 - acc: 0.9776 - val_loss: 0.0714 - val_acc: 0.9775\n",
      "Epoch 6/10\n",
      "81473/81473 [==============================] - 122s 1ms/step - loss: 0.0647 - acc: 0.9786 - val_loss: 0.0716 - val_acc: 0.9770\n",
      "Epoch 7/10\n",
      "81473/81473 [==============================] - 122s 2ms/step - loss: 0.0624 - acc: 0.9790 - val_loss: 0.0689 - val_acc: 0.9773\n",
      "Epoch 8/10\n",
      "81473/81473 [==============================] - 122s 1ms/step - loss: 0.0591 - acc: 0.9798 - val_loss: 0.0692 - val_acc: 0.9778\n",
      "Epoch 9/10\n",
      "81473/81473 [==============================] - 122s 1ms/step - loss: 0.0580 - acc: 0.9801 - val_loss: 0.0718 - val_acc: 0.9776\n",
      "Epoch 10/10\n",
      "81473/81473 [==============================] - 122s 2ms/step - loss: 0.0559 - acc: 0.9805 - val_loss: 0.0752 - val_acc: 0.9774\n"
     ]
    },
    {
     "data": {
      "text/plain": [
       "<keras.callbacks.History at 0x19be5d5f8>"
      ]
     },
     "execution_count": 59,
     "metadata": {},
     "output_type": "execute_result"
    }
   ],
   "source": [
    "model.fit(x=np.array(X_train), y=np.array(y_train), validation_data=(X_test, y_test), epochs=10)"
   ]
  },
  {
   "cell_type": "code",
   "execution_count": 63,
   "metadata": {},
   "outputs": [
    {
     "data": {
      "text/plain": [
       "array([   0,    0,    0,    0,    0,    0,    0,    0,    0,    0,    0,\n",
       "          0,    0,    0,    0,    0,    0,    0,    0,    0,    0,    0,\n",
       "          0,    0,    0,    0,    0,    0,    0,    0,    0,    0,    0,\n",
       "          0,    0,  717,    1, 1039,   56,   16,  517,   15, 2602,    3,\n",
       "        463,  143,  354,    2,   16, 3018,    1,  239,    8,  332,    1,\n",
       "       1026,    3,   11,   17,    5, 8606,    8,  366,  243,   26,   41,\n",
       "          8,   45,  123,    2,  313,   11,   15,  145, 2602], dtype=int32)"
      ]
     },
     "execution_count": 63,
     "metadata": {},
     "output_type": "execute_result"
    }
   ],
   "source": [
    "X_train[0]"
   ]
  },
  {
   "cell_type": "code",
   "execution_count": 75,
   "metadata": {},
   "outputs": [
    {
     "ename": "TypeError",
     "evalue": "parser_f() got an unexpected keyword argument 'index'",
     "output_type": "error",
     "traceback": [
      "\u001b[0;31m---------------------------------------------------------------------------\u001b[0m",
      "\u001b[0;31mTypeError\u001b[0m                                 Traceback (most recent call last)",
      "\u001b[0;32m<ipython-input-75-7b8495b4479f>\u001b[0m in \u001b[0;36m<module>\u001b[0;34m()\u001b[0m\n\u001b[0;32m----> 1\u001b[0;31m \u001b[0msubmission\u001b[0m \u001b[0;34m=\u001b[0m \u001b[0mpd\u001b[0m\u001b[0;34m.\u001b[0m\u001b[0mread_csv\u001b[0m\u001b[0;34m(\u001b[0m\u001b[0;34m\"test.csv\"\u001b[0m\u001b[0;34m,\u001b[0m \u001b[0mindex\u001b[0m\u001b[0;34m=\u001b[0m\u001b[0;34m\"id\"\u001b[0m\u001b[0;34m)\u001b[0m\u001b[0;34m\u001b[0m\u001b[0m\n\u001b[0m",
      "\u001b[0;31mTypeError\u001b[0m: parser_f() got an unexpected keyword argument 'index'"
     ]
    }
   ],
   "source": [
    "submission = pd.read_csv(\"test.csv\", index=\"id\")\n",
    "submission.set_index(\"id\", inplace=True)"
   ]
  },
  {
   "cell_type": "code",
   "execution_count": null,
   "metadata": {},
   "outputs": [],
   "source": [
    "submission_tokens = tokenizer.texts_to_sequences(submission[\"comment_text\"].astype(str))\n",
    "submission_X = pad_sequences(submission_tokens)"
   ]
  },
  {
   "cell_type": "code",
   "execution_count": null,
   "metadata": {},
   "outputs": [],
   "source": [
    "submission_preds = model.fit(submission_X[0])"
   ]
  },
  {
   "cell_type": "code",
   "execution_count": null,
   "metadata": {
    "collapsed": true
   },
   "outputs": [],
   "source": []
  }
 ],
 "metadata": {
  "kernelspec": {
   "display_name": "dl",
   "language": "python",
   "name": "dl"
  },
  "language_info": {
   "codemirror_mode": {
    "name": "ipython",
    "version": 3
   },
   "file_extension": ".py",
   "mimetype": "text/x-python",
   "name": "python",
   "nbconvert_exporter": "python",
   "pygments_lexer": "ipython3",
   "version": "3.6.0"
  }
 },
 "nbformat": 4,
 "nbformat_minor": 2
}
